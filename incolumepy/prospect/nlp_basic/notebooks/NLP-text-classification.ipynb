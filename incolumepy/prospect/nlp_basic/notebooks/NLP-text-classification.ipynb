{
 "cells": [
  {
   "cell_type": "markdown",
   "id": "dffbeb2a",
   "metadata": {},
   "source": [
    "# Machine Learning - Text classification"
   ]
  },
  {
   "cell_type": "markdown",
   "id": "408909c8",
   "metadata": {},
   "source": [
    "\n",
    "## Aula 04: Processamento de linguagem natural\n",
    "\n",
    "- [dev Dojo](https://www.youtube.com/watch?v=gy8A_qSzVOM)"
   ]
  },
  {
   "cell_type": "code",
   "execution_count": 2,
   "id": "4de8f028",
   "metadata": {},
   "outputs": [],
   "source": [
    "import string\n",
    "import re\n",
    "import pandas"
   ]
  },
  {
   "cell_type": "code",
   "execution_count": null,
   "id": "b9befdb7",
   "metadata": {},
   "outputs": [],
   "source": []
  }
 ],
 "metadata": {
  "kernelspec": {
   "display_name": "nlp-basic-py3.10",
   "language": "python",
   "name": "nlp-basic-py3.10"
  },
  "language_info": {
   "codemirror_mode": {
    "name": "ipython",
    "version": 3
   },
   "file_extension": ".py",
   "mimetype": "text/x-python",
   "name": "python",
   "nbconvert_exporter": "python",
   "pygments_lexer": "ipython3",
   "version": "3.10.2"
  }
 },
 "nbformat": 4,
 "nbformat_minor": 5
}
