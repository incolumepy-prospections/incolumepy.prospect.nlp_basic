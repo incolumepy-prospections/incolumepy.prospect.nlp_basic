{
 "cells": [
  {
   "cell_type": "markdown",
   "id": "aca47e77",
   "metadata": {},
   "source": [
    "# [How to Extract Text from PDF](https://towardsdatascience.com/how-to-extract-text-from-pdf-245482a96de7)\n",
    "## Learn to use Python to extract text from PDFs"
   ]
  },
  {
   "cell_type": "code",
   "execution_count": null,
   "id": "b2a1a938",
   "metadata": {},
   "outputs": [],
   "source": []
  }
 ],
 "metadata": {
  "kernelspec": {
   "display_name": "nlp-basic-py3.10",
   "language": "python",
   "name": "nlp-basic-py3.10"
  },
  "language_info": {
   "codemirror_mode": {
    "name": "ipython",
    "version": 3
   },
   "file_extension": ".py",
   "mimetype": "text/x-python",
   "name": "python",
   "nbconvert_exporter": "python",
   "pygments_lexer": "ipython3",
   "version": "3.10.2"
  }
 },
 "nbformat": 4,
 "nbformat_minor": 5
}
